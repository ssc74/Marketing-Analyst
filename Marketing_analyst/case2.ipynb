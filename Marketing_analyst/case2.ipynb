{
 "cells": [
  {
   "cell_type": "markdown",
   "metadata": {},
   "source": [
    "# Кейс 2:\n",
    "## Умови:\n",
    "\n",
    "Продукт - мобільний додаток з планом харчування та планом тренувань. Модель монетизації - передплата, оплата 9.99 USD на тиждень (7 днів). За посиланням нижче вивантаження з бази даних щодо оформлення передплат та наступних оплат. Кожен рядок є окремою подією. Завдання побудоване в таким чином, щоб перевірити розуміння принципів unit-економіки підприємства. Подавати інформацію слід так, ніби ви її презентуєте людині, далекій від аналітики, а ваша мета - донести ідею.\n",
    "\n",
    "***Завдання:***\n",
    "\n",
    "1. Необхідно розрахувати поточний LTV користувача, використовуючи когортний аналіз (cohorting event - оформлення першого платежу, когорта є кількістю можливих операцій) на 1.5 місяці (6 платежів).\n",
    "2. Спрогнозувати LTV користувача на 2, 5, 6 місяців.\n",
    "3. Розрахувати прогнозований ROAS на 6 тижнів і півроку, якщо  ціна залучення користувача, що оформлює передплату - 30 USD"
   ]
  },
  {
   "cell_type": "markdown",
   "metadata": {},
   "source": [
    "### Опис даних:\n",
    "\n",
    "Product_id - тип передплати, ми маємо за умовою 9.99 на тиждень.\n",
    "\n",
    "Quantity - кількість дублів операції\n",
    "\n",
    "Purchase_date - дата операції\n",
    "\n",
    "Сurrent_date - дата на момент розрахунку\n",
    "\n",
    "Subscription_date - дата оформлення передплати (перша оплата)\n",
    "\n",
    "User_id - унікальний код конкретного користувача\n",
    "\n",
    "Cohort - номер тижня, коли були залучені користувачі"
   ]
  },
  {
   "cell_type": "code",
   "execution_count": 1,
   "metadata": {},
   "outputs": [],
   "source": [
    "# імпортуємо бібліотеки\n",
    "import pandas as pd\n",
    "import numpy as np\n",
    "import matplotlib.pyplot as plt"
   ]
  },
  {
   "cell_type": "markdown",
   "metadata": {},
   "source": [
    "Відкриємо та проаналізуємо наш датасет:"
   ]
  },
  {
   "cell_type": "code",
   "execution_count": 2,
   "metadata": {},
   "outputs": [
    {
     "data": {
      "text/html": [
       "<div>\n",
       "<style scoped>\n",
       "    .dataframe tbody tr th:only-of-type {\n",
       "        vertical-align: middle;\n",
       "    }\n",
       "\n",
       "    .dataframe tbody tr th {\n",
       "        vertical-align: top;\n",
       "    }\n",
       "\n",
       "    .dataframe thead th {\n",
       "        text-align: right;\n",
       "    }\n",
       "</style>\n",
       "<table border=\"1\" class=\"dataframe\">\n",
       "  <thead>\n",
       "    <tr style=\"text-align: right;\">\n",
       "      <th></th>\n",
       "      <th>product_id</th>\n",
       "      <th>quantity</th>\n",
       "      <th>purchase_date</th>\n",
       "      <th>current_date</th>\n",
       "      <th>subscription_date</th>\n",
       "      <th>user_id</th>\n",
       "      <th>Cohort</th>\n",
       "    </tr>\n",
       "  </thead>\n",
       "  <tbody>\n",
       "    <tr>\n",
       "      <th>0</th>\n",
       "      <td>1week_9.99_USD_subscription</td>\n",
       "      <td>1</td>\n",
       "      <td>2021-02-19</td>\n",
       "      <td>2021-02-21</td>\n",
       "      <td>2021-02-19</td>\n",
       "      <td>9484222</td>\n",
       "      <td>1</td>\n",
       "    </tr>\n",
       "    <tr>\n",
       "      <th>1</th>\n",
       "      <td>1week_9.99_USD_subscription</td>\n",
       "      <td>1</td>\n",
       "      <td>2021-02-17</td>\n",
       "      <td>2021-02-21</td>\n",
       "      <td>2021-02-17</td>\n",
       "      <td>9422402</td>\n",
       "      <td>1</td>\n",
       "    </tr>\n",
       "    <tr>\n",
       "      <th>2</th>\n",
       "      <td>1week_9.99_USD_subscription</td>\n",
       "      <td>1</td>\n",
       "      <td>2021-02-18</td>\n",
       "      <td>2021-02-21</td>\n",
       "      <td>2021-02-18</td>\n",
       "      <td>4997991</td>\n",
       "      <td>1</td>\n",
       "    </tr>\n",
       "    <tr>\n",
       "      <th>3</th>\n",
       "      <td>1week_9.99_USD_subscription</td>\n",
       "      <td>1</td>\n",
       "      <td>2021-02-18</td>\n",
       "      <td>2021-02-21</td>\n",
       "      <td>2021-02-18</td>\n",
       "      <td>9455582</td>\n",
       "      <td>1</td>\n",
       "    </tr>\n",
       "    <tr>\n",
       "      <th>4</th>\n",
       "      <td>1week_9.99_USD_subscription</td>\n",
       "      <td>1</td>\n",
       "      <td>2021-02-16</td>\n",
       "      <td>2021-02-21</td>\n",
       "      <td>2021-01-26</td>\n",
       "      <td>8803657</td>\n",
       "      <td>4</td>\n",
       "    </tr>\n",
       "    <tr>\n",
       "      <th>...</th>\n",
       "      <td>...</td>\n",
       "      <td>...</td>\n",
       "      <td>...</td>\n",
       "      <td>...</td>\n",
       "      <td>...</td>\n",
       "      <td>...</td>\n",
       "      <td>...</td>\n",
       "    </tr>\n",
       "    <tr>\n",
       "      <th>51141</th>\n",
       "      <td>1week_9.99_USD_subscription</td>\n",
       "      <td>1</td>\n",
       "      <td>2021-02-02</td>\n",
       "      <td>2021-02-21</td>\n",
       "      <td>2021-02-02</td>\n",
       "      <td>8995745</td>\n",
       "      <td>3</td>\n",
       "    </tr>\n",
       "    <tr>\n",
       "      <th>51142</th>\n",
       "      <td>1week_9.99_USD_subscription</td>\n",
       "      <td>1</td>\n",
       "      <td>2021-01-12</td>\n",
       "      <td>2021-02-21</td>\n",
       "      <td>2021-01-12</td>\n",
       "      <td>8375739</td>\n",
       "      <td>6</td>\n",
       "    </tr>\n",
       "    <tr>\n",
       "      <th>51143</th>\n",
       "      <td>1week_9.99_USD_subscription</td>\n",
       "      <td>1</td>\n",
       "      <td>2021-01-30</td>\n",
       "      <td>2021-02-21</td>\n",
       "      <td>2021-01-16</td>\n",
       "      <td>8485273</td>\n",
       "      <td>6</td>\n",
       "    </tr>\n",
       "    <tr>\n",
       "      <th>51144</th>\n",
       "      <td>1week_9.99_USD_subscription</td>\n",
       "      <td>1</td>\n",
       "      <td>2021-02-03</td>\n",
       "      <td>2021-02-21</td>\n",
       "      <td>2021-01-12</td>\n",
       "      <td>8375118</td>\n",
       "      <td>6</td>\n",
       "    </tr>\n",
       "    <tr>\n",
       "      <th>51145</th>\n",
       "      <td>1week_9.99_USD_subscription</td>\n",
       "      <td>1</td>\n",
       "      <td>2021-02-02</td>\n",
       "      <td>2021-02-21</td>\n",
       "      <td>2021-01-19</td>\n",
       "      <td>8576011</td>\n",
       "      <td>5</td>\n",
       "    </tr>\n",
       "  </tbody>\n",
       "</table>\n",
       "<p>51146 rows × 7 columns</p>\n",
       "</div>"
      ],
      "text/plain": [
       "                        product_id  quantity purchase_date current_date   \n",
       "0      1week_9.99_USD_subscription         1    2021-02-19   2021-02-21  \\\n",
       "1      1week_9.99_USD_subscription         1    2021-02-17   2021-02-21   \n",
       "2      1week_9.99_USD_subscription         1    2021-02-18   2021-02-21   \n",
       "3      1week_9.99_USD_subscription         1    2021-02-18   2021-02-21   \n",
       "4      1week_9.99_USD_subscription         1    2021-02-16   2021-02-21   \n",
       "...                            ...       ...           ...          ...   \n",
       "51141  1week_9.99_USD_subscription         1    2021-02-02   2021-02-21   \n",
       "51142  1week_9.99_USD_subscription         1    2021-01-12   2021-02-21   \n",
       "51143  1week_9.99_USD_subscription         1    2021-01-30   2021-02-21   \n",
       "51144  1week_9.99_USD_subscription         1    2021-02-03   2021-02-21   \n",
       "51145  1week_9.99_USD_subscription         1    2021-02-02   2021-02-21   \n",
       "\n",
       "      subscription_date  user_id  Cohort  \n",
       "0            2021-02-19  9484222       1  \n",
       "1            2021-02-17  9422402       1  \n",
       "2            2021-02-18  4997991       1  \n",
       "3            2021-02-18  9455582       1  \n",
       "4            2021-01-26  8803657       4  \n",
       "...                 ...      ...     ...  \n",
       "51141        2021-02-02  8995745       3  \n",
       "51142        2021-01-12  8375739       6  \n",
       "51143        2021-01-16  8485273       6  \n",
       "51144        2021-01-12  8375118       6  \n",
       "51145        2021-01-19  8576011       5  \n",
       "\n",
       "[51146 rows x 7 columns]"
      ]
     },
     "execution_count": 2,
     "metadata": {},
     "output_type": "execute_result"
    }
   ],
   "source": [
    "df = pd.read_excel('test_case.xlsx')\n",
    "df"
   ]
  },
  {
   "cell_type": "markdown",
   "metadata": {},
   "source": [
    "Подивимось кількість унікальних значень для кожної колонки. Ця інформація буде нам корисна для подальшого аналізу."
   ]
  },
  {
   "cell_type": "code",
   "execution_count": 3,
   "metadata": {},
   "outputs": [
    {
     "name": "stdout",
     "output_type": "stream",
     "text": [
      "кількість унікальних product_id =  1\n",
      "кількість унікальних quantity =  1\n",
      "кількість унікальних purchase_date =  47\n",
      "кількість унікальних current_date =  1\n",
      "кількість унікальних subscription_date =  47\n",
      "кількість унікальних user_id =  19536\n",
      "кількість унікальних Cohort =  7\n"
     ]
    }
   ],
   "source": [
    "print('кількість унікальних product_id = ', df['product_id'].nunique())\n",
    "print('кількість унікальних quantity = ',df['quantity'].nunique())\n",
    "print('кількість унікальних purchase_date = ',df['purchase_date'].nunique())\n",
    "print('кількість унікальних current_date = ',df['current_date'].nunique())\n",
    "print('кількість унікальних subscription_date = ',df['subscription_date'].nunique())\n",
    "print('кількість унікальних user_id = ',df['user_id'].nunique())\n",
    "print('кількість унікальних Cohort = ',df['Cohort'].nunique())"
   ]
  },
  {
   "cell_type": "markdown",
   "metadata": {},
   "source": [
    "### Завдання 1:\n",
    "*Необхідно розрахувати поточний LTV користувача, використовуючи когортний аналіз (cohorting event - оформлення першого платежу, когорта є кількістю можливих операцій) на 1.5 місяці (6 платежів).*\n"
   ]
  },
  {
   "cell_type": "markdown",
   "metadata": {},
   "source": [
    "Для початку визначимо що таке LTV:\n",
    "\n",
    "LTV (Customer Lifetime Value) -  показник суми грошей, яку користувач приносить в середньому протягом своєї взаємодії з продуктом.\n",
    "\n",
    "У нашому випадку ми шукаємо LTV на 1,5 місяці, тому нам треба знайти середній дохід компанії від користувача за 6 тижнів."
   ]
  },
  {
   "cell_type": "markdown",
   "metadata": {},
   "source": [
    "Для пошуку LTV є декілька формул:\n",
    "\n",
    "1)\n",
    "$LTV = ARPU \\frac{1}{Churn}$\n",
    "\n",
    "**ARPU (Average Revenue Per User)** - показник, який вимірює середній дохід, який компанія отримує від кожного користувача протягом певного періоду часу.\n",
    "\n",
    "$ARPU=  \\frac{Загальний дохід}{Кількість користувачів}$\n",
    "\n",
    "**Churn** - це коефіцієнт втрат, який вказує на ту частину клієнтів, яку компанія втрачає протягом певного періоду часу.\n",
    "\n",
    "2)\n",
    "**LTV = Subscription cost x Retention rate x Customer Lifetime Duration**\n",
    "\n",
    "**Subscription cost** - вартість підписки (9,99$)\n",
    "\n",
    "**Retention rate** - метрика, що вказує на те, який відсоток користувачів повертається до продукту через N-кількість днів після покупки першої підписки.\n",
    "\n",
    "**Customer Lifetime Duration** - середня тривалість користування додатком \n",
    "\n",
    "3)\n",
    " $LTV =\\sum_{t=1}^{n} (retention rate_{t} * Subscription cost)$\n",
    "\n",
    "**Subscription cost** -  це вартість тижневої підписки\n",
    "\n",
    "**retention rate_t** - це частка клієнтів що залишилась після t тижня (від загальної кількості)\n",
    "\n",
    "**n** - це кількіст тижнів на які ми хочемо спрогнозувати LTV\n",
    " \n",
    " \n"
   ]
  },
  {
   "cell_type": "markdown",
   "metadata": {},
   "source": [
    "Тепер повернемось до датасету. Для початку скопіюємо необхідні дані у нову таблицю, куди ми будемо додавати нові метрики. Оскільки 'product_id' та 'quantity' приймають лише одне значення, то ми їх відкинемо для більшої зручності. 'current_date' також всюди однакова, тому ми не будемо копіювати його у новий датасет, а просто запам'ятаємо, що current_date = 2021-02-21.\n",
    "\n",
    "Створисо новий датасет з необхідними значеннями:"
   ]
  },
  {
   "cell_type": "code",
   "execution_count": 4,
   "metadata": {},
   "outputs": [
    {
     "data": {
      "text/html": [
       "<div>\n",
       "<style scoped>\n",
       "    .dataframe tbody tr th:only-of-type {\n",
       "        vertical-align: middle;\n",
       "    }\n",
       "\n",
       "    .dataframe tbody tr th {\n",
       "        vertical-align: top;\n",
       "    }\n",
       "\n",
       "    .dataframe thead th {\n",
       "        text-align: right;\n",
       "    }\n",
       "</style>\n",
       "<table border=\"1\" class=\"dataframe\">\n",
       "  <thead>\n",
       "    <tr style=\"text-align: right;\">\n",
       "      <th></th>\n",
       "      <th>user_id</th>\n",
       "      <th>Cohort</th>\n",
       "      <th>subscription_date</th>\n",
       "      <th>purchase_date</th>\n",
       "    </tr>\n",
       "  </thead>\n",
       "  <tbody>\n",
       "    <tr>\n",
       "      <th>0</th>\n",
       "      <td>9484222</td>\n",
       "      <td>1</td>\n",
       "      <td>2021-02-19</td>\n",
       "      <td>2021-02-19</td>\n",
       "    </tr>\n",
       "    <tr>\n",
       "      <th>1</th>\n",
       "      <td>9422402</td>\n",
       "      <td>1</td>\n",
       "      <td>2021-02-17</td>\n",
       "      <td>2021-02-17</td>\n",
       "    </tr>\n",
       "    <tr>\n",
       "      <th>2</th>\n",
       "      <td>4997991</td>\n",
       "      <td>1</td>\n",
       "      <td>2021-02-18</td>\n",
       "      <td>2021-02-18</td>\n",
       "    </tr>\n",
       "    <tr>\n",
       "      <th>3</th>\n",
       "      <td>9455582</td>\n",
       "      <td>1</td>\n",
       "      <td>2021-02-18</td>\n",
       "      <td>2021-02-18</td>\n",
       "    </tr>\n",
       "    <tr>\n",
       "      <th>4</th>\n",
       "      <td>8803657</td>\n",
       "      <td>4</td>\n",
       "      <td>2021-01-26</td>\n",
       "      <td>2021-02-16</td>\n",
       "    </tr>\n",
       "  </tbody>\n",
       "</table>\n",
       "</div>"
      ],
      "text/plain": [
       "   user_id  Cohort subscription_date purchase_date\n",
       "0  9484222       1        2021-02-19    2021-02-19\n",
       "1  9422402       1        2021-02-17    2021-02-17\n",
       "2  4997991       1        2021-02-18    2021-02-18\n",
       "3  9455582       1        2021-02-18    2021-02-18\n",
       "4  8803657       4        2021-01-26    2021-02-16"
      ]
     },
     "execution_count": 4,
     "metadata": {},
     "output_type": "execute_result"
    }
   ],
   "source": [
    "df_copy = df[['user_id', 'Cohort', 'subscription_date', 'purchase_date']].copy()\n",
    "df_copy.head()"
   ]
  },
  {
   "cell_type": "markdown",
   "metadata": {},
   "source": [
    "Отримали меньший датасет з якми буде зручно працювати у майбутньому. Оскільки ми будемо працювати з когортами та \"юзерами\", то нам вигідно згрупувати по когортам та \"юзерам\" і знайти для кожного користувача кількість операцій - тобто кількість куплених підписок ('number_of_subscriptions') "
   ]
  },
  {
   "cell_type": "code",
   "execution_count": 5,
   "metadata": {},
   "outputs": [
    {
     "data": {
      "text/html": [
       "<div>\n",
       "<style scoped>\n",
       "    .dataframe tbody tr th:only-of-type {\n",
       "        vertical-align: middle;\n",
       "    }\n",
       "\n",
       "    .dataframe tbody tr th {\n",
       "        vertical-align: top;\n",
       "    }\n",
       "\n",
       "    .dataframe thead th {\n",
       "        text-align: right;\n",
       "    }\n",
       "</style>\n",
       "<table border=\"1\" class=\"dataframe\">\n",
       "  <thead>\n",
       "    <tr style=\"text-align: right;\">\n",
       "      <th></th>\n",
       "      <th>Cohort</th>\n",
       "      <th>user_id</th>\n",
       "      <th>number_of_subscriptions</th>\n",
       "    </tr>\n",
       "  </thead>\n",
       "  <tbody>\n",
       "    <tr>\n",
       "      <th>0</th>\n",
       "      <td>1</td>\n",
       "      <td>100404</td>\n",
       "      <td>1</td>\n",
       "    </tr>\n",
       "    <tr>\n",
       "      <th>1</th>\n",
       "      <td>1</td>\n",
       "      <td>103680</td>\n",
       "      <td>1</td>\n",
       "    </tr>\n",
       "    <tr>\n",
       "      <th>2</th>\n",
       "      <td>1</td>\n",
       "      <td>131706</td>\n",
       "      <td>1</td>\n",
       "    </tr>\n",
       "    <tr>\n",
       "      <th>3</th>\n",
       "      <td>1</td>\n",
       "      <td>188231</td>\n",
       "      <td>1</td>\n",
       "    </tr>\n",
       "    <tr>\n",
       "      <th>4</th>\n",
       "      <td>1</td>\n",
       "      <td>244520</td>\n",
       "      <td>1</td>\n",
       "    </tr>\n",
       "  </tbody>\n",
       "</table>\n",
       "</div>"
      ],
      "text/plain": [
       "   Cohort  user_id  number_of_subscriptions\n",
       "0       1   100404                        1\n",
       "1       1   103680                        1\n",
       "2       1   131706                        1\n",
       "3       1   188231                        1\n",
       "4       1   244520                        1"
      ]
     },
     "execution_count": 5,
     "metadata": {},
     "output_type": "execute_result"
    }
   ],
   "source": [
    "group_data = df_copy.groupby(['Cohort','user_id']).size().reset_index(name='number_of_subscriptions')\n",
    "group_data.head()"
   ]
  },
  {
   "cell_type": "markdown",
   "metadata": {},
   "source": [
    "Отримали зручне представлення по кожному користувачу з кількыстю проплачених ним підписок і номером когорти"
   ]
  },
  {
   "cell_type": "markdown",
   "metadata": {},
   "source": [
    "Також додамо сумму грошей, яку користувач витратив у додатку (profit). Вона рахується як кількість куплених підписок * вартість підписки (9,99$)"
   ]
  },
  {
   "cell_type": "code",
   "execution_count": 6,
   "metadata": {},
   "outputs": [
    {
     "data": {
      "text/html": [
       "<div>\n",
       "<style scoped>\n",
       "    .dataframe tbody tr th:only-of-type {\n",
       "        vertical-align: middle;\n",
       "    }\n",
       "\n",
       "    .dataframe tbody tr th {\n",
       "        vertical-align: top;\n",
       "    }\n",
       "\n",
       "    .dataframe thead th {\n",
       "        text-align: right;\n",
       "    }\n",
       "</style>\n",
       "<table border=\"1\" class=\"dataframe\">\n",
       "  <thead>\n",
       "    <tr style=\"text-align: right;\">\n",
       "      <th></th>\n",
       "      <th>Cohort</th>\n",
       "      <th>user_id</th>\n",
       "      <th>number_of_subscriptions</th>\n",
       "      <th>profit</th>\n",
       "    </tr>\n",
       "  </thead>\n",
       "  <tbody>\n",
       "    <tr>\n",
       "      <th>0</th>\n",
       "      <td>1</td>\n",
       "      <td>100404</td>\n",
       "      <td>1</td>\n",
       "      <td>9.99</td>\n",
       "    </tr>\n",
       "    <tr>\n",
       "      <th>1</th>\n",
       "      <td>1</td>\n",
       "      <td>103680</td>\n",
       "      <td>1</td>\n",
       "      <td>9.99</td>\n",
       "    </tr>\n",
       "    <tr>\n",
       "      <th>2</th>\n",
       "      <td>1</td>\n",
       "      <td>131706</td>\n",
       "      <td>1</td>\n",
       "      <td>9.99</td>\n",
       "    </tr>\n",
       "    <tr>\n",
       "      <th>3</th>\n",
       "      <td>1</td>\n",
       "      <td>188231</td>\n",
       "      <td>1</td>\n",
       "      <td>9.99</td>\n",
       "    </tr>\n",
       "    <tr>\n",
       "      <th>4</th>\n",
       "      <td>1</td>\n",
       "      <td>244520</td>\n",
       "      <td>1</td>\n",
       "      <td>9.99</td>\n",
       "    </tr>\n",
       "    <tr>\n",
       "      <th>...</th>\n",
       "      <td>...</td>\n",
       "      <td>...</td>\n",
       "      <td>...</td>\n",
       "      <td>...</td>\n",
       "    </tr>\n",
       "    <tr>\n",
       "      <th>19531</th>\n",
       "      <td>7</td>\n",
       "      <td>8286459</td>\n",
       "      <td>1</td>\n",
       "      <td>9.99</td>\n",
       "    </tr>\n",
       "    <tr>\n",
       "      <th>19532</th>\n",
       "      <td>7</td>\n",
       "      <td>8426953</td>\n",
       "      <td>6</td>\n",
       "      <td>59.94</td>\n",
       "    </tr>\n",
       "    <tr>\n",
       "      <th>19533</th>\n",
       "      <td>7</td>\n",
       "      <td>8466455</td>\n",
       "      <td>6</td>\n",
       "      <td>59.94</td>\n",
       "    </tr>\n",
       "    <tr>\n",
       "      <th>19534</th>\n",
       "      <td>7</td>\n",
       "      <td>8808750</td>\n",
       "      <td>2</td>\n",
       "      <td>19.98</td>\n",
       "    </tr>\n",
       "    <tr>\n",
       "      <th>19535</th>\n",
       "      <td>7</td>\n",
       "      <td>9416552</td>\n",
       "      <td>4</td>\n",
       "      <td>39.96</td>\n",
       "    </tr>\n",
       "  </tbody>\n",
       "</table>\n",
       "<p>19536 rows × 4 columns</p>\n",
       "</div>"
      ],
      "text/plain": [
       "       Cohort  user_id  number_of_subscriptions  profit\n",
       "0           1   100404                        1    9.99\n",
       "1           1   103680                        1    9.99\n",
       "2           1   131706                        1    9.99\n",
       "3           1   188231                        1    9.99\n",
       "4           1   244520                        1    9.99\n",
       "...       ...      ...                      ...     ...\n",
       "19531       7  8286459                        1    9.99\n",
       "19532       7  8426953                        6   59.94\n",
       "19533       7  8466455                        6   59.94\n",
       "19534       7  8808750                        2   19.98\n",
       "19535       7  9416552                        4   39.96\n",
       "\n",
       "[19536 rows x 4 columns]"
      ]
     },
     "execution_count": 6,
     "metadata": {},
     "output_type": "execute_result"
    }
   ],
   "source": [
    "group_data['profit'] = group_data['number_of_subscriptions'] * 9.99\n",
    "group_data"
   ]
  },
  {
   "cell_type": "markdown",
   "metadata": {},
   "source": [
    "Отже ми тепер знаємо скільки кожен користувач витратив за весь час користування додатком. Тепер знайдемо середнє значення витрачених грошей одним користувачем по когортам (ARPU)."
   ]
  },
  {
   "cell_type": "markdown",
   "metadata": {},
   "source": [
    "ARPU (Average Revenue Per User) - показник, який вимірює середній дохід, який компанія отримує від кожного користувача протягом певного періоду часу.\n",
    "\n",
    "***ARPU= Загальний дохід / Кількість користувачів***"
   ]
  },
  {
   "cell_type": "code",
   "execution_count": 7,
   "metadata": {},
   "outputs": [
    {
     "name": "stdout",
     "output_type": "stream",
     "text": [
      "середній профіт з користувача  1  когорти =  9.989999999999998\n",
      "середній профіт з користувача  2  когорти =  16.058720930232557\n",
      "середній профіт з користувача  3  когорти =  21.828720166032518\n",
      "середній профіт з користувача  4  когорти =  27.73224\n",
      "середній профіт з користувача  5  когорти =  33.7779952052742\n",
      "середній профіт з користувача  6  когорти =  39.31462831858407\n",
      "середній профіт з користувача  7  когорти =  45.40335018963337\n"
     ]
    }
   ],
   "source": [
    "for i in range(7):\n",
    "    sum = group_data[group_data['Cohort']==i+1]['profit'].sum()\n",
    "    count  = group_data[group_data['Cohort']==i+1]['user_id'].count()\n",
    "    print('середній профіт з користувача ', i+1, ' когорти = ',sum/count)"
   ]
  },
  {
   "cell_type": "markdown",
   "metadata": {},
   "source": [
    "Знайдемо частку користувачів, що перестають купувати підписку після певного тижня (відток користувачі).\n",
    "Для пошуку відтоку користувачів, я буду знаходити кількість користувачів які оформили підписку на певний тиждень і мали можливість оформити її на наступний тиждень (тобто, якщо користувач прийшов тиждень тому або менше, то він фізично б не зміг купити другу підписку, тому ми його не враховуємо). Потім я знайду з них кількість тих, хто відмовився від підписки (купив на цей місяць, але не купив на наступний) після певного тижня. Відношення тих хто не купив наступну підписку до загальної кількості людей, що мали цю підписку і буде часткою відтоку."
   ]
  },
  {
   "cell_type": "code",
   "execution_count": 8,
   "metadata": {},
   "outputs": [
    {
     "name": "stdout",
     "output_type": "stream",
     "text": [
      "Частка втрачених користувачів після  1  тижня підписки =  0.2611868868150275\n",
      "Частка втрачених користувачів після  2  тижня підписки =  0.2024575213593165\n",
      "Частка втрачених користувачів після  3  тижня підписки =  0.18910719445247037\n",
      "Частка втрачених користувачів після  4  тижня підписки =  0.19339733083586982\n",
      "Частка втрачених користувачів після  5  тижня підписки =  0.20198675496688742\n",
      "Частка втрачених користувачів після  6  тижня підписки =  0.47058823529411764\n"
     ]
    }
   ],
   "source": [
    "churn = []\n",
    "for i in range (6):\n",
    "    x = group_data[(group_data['Cohort']>i+1) & (group_data['number_of_subscriptions']>=i+1)]['user_id'].count() #кількість користувачів, що взяли підписку і-й раз і мали змогу її продовжити\n",
    "    y = group_data[(group_data['Cohort']>i+1) & (group_data['number_of_subscriptions']==i+1)]['user_id'].count() #кількість користувачів, що перестало купувати підписку після і-го тижня\n",
    "    churn.append(y/x)\n",
    "    print('Частка втрачених користувачів після ', i+1, ' тижня підписки = ', y/x) "
   ]
  },
  {
   "cell_type": "markdown",
   "metadata": {},
   "source": [
    "Як бачимо приблизно 20% користувачів не продовжують підписку після її завершення. Проте, після 6 тижня майже половина користувачів не продовжують підписку. Отже, можна зробити висновок, що більшість юзерів користуються додатком в середньому до 6 тижнів."
   ]
  },
  {
   "cell_type": "markdown",
   "metadata": {},
   "source": [
    "Але для підрахунку LTV нам необхідна метрика, що дорівнює відсотку користувачів (від початкової кількості), що залишились по кожному тижню. Тому знайдемо це значення віднявши частку втрачених користувачів від 1, а потім помноживши на частку юзерів, що залишились на минулому тижні ."
   ]
  },
  {
   "cell_type": "code",
   "execution_count": 9,
   "metadata": {},
   "outputs": [],
   "source": [
    "# знайдемо частку користувачів, що продовжили підписку, за кожним тижнем як частку від загальної кількості користувачів\n",
    "retention_rate = [0] * (len(churn)+1)    \n",
    "retention_rate[0] = 1\n",
    "\n",
    "for i in range(1, len(churn)+1):\n",
    "    retention_rate[i] = (1-churn[i-1]) * retention_rate[i - 1]"
   ]
  },
  {
   "cell_type": "markdown",
   "metadata": {},
   "source": [
    "Виведемо retention_rate, щоб перевірити правильність обчислень"
   ]
  },
  {
   "cell_type": "code",
   "execution_count": 10,
   "metadata": {},
   "outputs": [
    {
     "name": "stdout",
     "output_type": "stream",
     "text": [
      "[1, 0.7388131131849724, 0.5892348415417827, 0.4778062937841703, 0.38539983190973226, 0.30755417049750156, 0.1628227961457361]\n"
     ]
    }
   ],
   "source": [
    "print(retention_rate)"
   ]
  },
  {
   "cell_type": "markdown",
   "metadata": {},
   "source": [
    "Отже, першиу підписку купує 100% користувачів, другу 74%, третю 58% і так далі. (відсоток рахується від кількіості користувачів що оформили першу підписку)"
   ]
  },
  {
   "cell_type": "markdown",
   "metadata": {},
   "source": [
    "Створимо функцію яка буде обраховувати  LTV за заданий проміжок часу. Скористаємось формулою:\n",
    "\n",
    " $LTV =\\sum_{t=1}^{n} ( retention rate_{t} * Subscription cost)) $"
   ]
  },
  {
   "cell_type": "code",
   "execution_count": 11,
   "metadata": {},
   "outputs": [],
   "source": [
    "def ltv (weeks, retention_rate, subscription_cost):\n",
    "    sum_retention_rate = np.sum(retention_rate[:weeks])\n",
    "    return sum_retention_rate*subscription_cost"
   ]
  },
  {
   "cell_type": "markdown",
   "metadata": {},
   "source": [
    "Функцыя ***ltv***  приймає три параметри:\n",
    "\n",
    "***weeks*** - кількість тижнів за які ми рахуємо LTV\n",
    "\n",
    "***retention_rate*** - масив з відсотками користувачів які продовжують підписку (по тижням в десятковому вигляді)\n",
    "\n",
    "**subscription_cost** - ціна підписки на тиждень\n",
    "\n",
    "Функція повертає значення LTV за заданий час\n",
    "\n"
   ]
  },
  {
   "cell_type": "markdown",
   "metadata": {},
   "source": [
    "Отже, отримємо відповідь на перше завдання, викликавши функцію для обрахунку LTV"
   ]
  },
  {
   "cell_type": "code",
   "execution_count": 12,
   "metadata": {},
   "outputs": [
    {
     "name": "stdout",
     "output_type": "stream",
     "text": [
      "LTV на 1,5 місяці =  34.953094426672415\n"
     ]
    }
   ],
   "source": [
    "ltv6 = ltv(6,retention_rate,9.99)\n",
    "print(\"LTV на 1,5 місяці = \", ltv6)"
   ]
  },
  {
   "cell_type": "markdown",
   "metadata": {},
   "source": [
    "#### Отже, отримали значення LTV = 34.95$"
   ]
  },
  {
   "cell_type": "markdown",
   "metadata": {},
   "source": [
    "Можемо порівняти отримане значення з середнім профітом додатку від користувачів 6 когорти (які почали користуватися 6 тижнів тому). Знайдемо середнє значення профіту 6 кагорти:"
   ]
  },
  {
   "cell_type": "code",
   "execution_count": 13,
   "metadata": {},
   "outputs": [
    {
     "data": {
      "text/plain": [
       "39.31462831858407"
      ]
     },
     "execution_count": 13,
     "metadata": {},
     "output_type": "execute_result"
    }
   ],
   "source": [
    "group_data[group_data['Cohort']==6]['profit'].mean()"
   ]
  },
  {
   "cell_type": "markdown",
   "metadata": {},
   "source": [
    "Дійсно, отримали доволі схожі значення, що підтверджує правильність обрахунку LTV , отже LTV на 6 місяців  складає 34.95$"
   ]
  },
  {
   "cell_type": "markdown",
   "metadata": {},
   "source": [
    "## Завдання 2:"
   ]
  },
  {
   "cell_type": "markdown",
   "metadata": {},
   "source": [
    " *Спрогнозувати LTV користувача на 2, 5, 6 місяців.*\n",
    "\n",
    " щоб спрогнозувати LTV ми маємо спрогнозувати яка частка клієнтів залишиться через 8, 20 та 24 тижні. Ми маємо значення retention_rate з 1 по 7 тиждень. Пошукаємо залежність цих значень для майбутнього прогнозування:\n",
    "\n"
   ]
  },
  {
   "cell_type": "markdown",
   "metadata": {},
   "source": [
    "Дивлячись на значення retention_rate, спадає на думку провести дослідження на експоненсійну залежність значень. Спробуємо знайти експоненсіальну залежність цих даних (точки на графіку мають знаходитися поблизу лінії експоненсійного рівняння)"
   ]
  },
  {
   "cell_type": "code",
   "execution_count": 14,
   "metadata": {},
   "outputs": [
    {
     "data": {
      "image/png": "[encoded data removed]",
      "text/plain": [
       "<Figure size 640x480 with 1 Axes>"
      ]
     },
     "metadata": {},
     "output_type": "display_data"
    }
   ],
   "source": [
    "\n",
    "# додамо попередньо обрахованы дані\n",
    "y_values = retention_rate\n",
    "\n",
    "# Індекси тижнів\n",
    "x_values = np.arange(1, len(y_values) + 1)\n",
    "\n",
    "# Експоненційна лінія тренда\n",
    "coefficients = np.polyfit(x_values, np.log(y_values), 1)\n",
    "a, b = np.exp(coefficients[1]), coefficients[0]\n",
    "\n",
    "# Побудуємо графік\n",
    "plt.scatter(x_values, y_values, label='Частка користувачів що залишилась')\n",
    "plt.plot(x_values, a * np.exp(b * x_values), label='Експоненційна лінія тренда', color='red')\n",
    "\n",
    "plt.xlabel('Тижні')\n",
    "plt.ylabel('Частка користувачів що залишилась')\n",
    "plt.legend()\n",
    "plt.show()"
   ]
  },
  {
   "cell_type": "markdown",
   "metadata": {},
   "source": [
    "Дійсно, точки знаходяться близько до можливої лінії тренду. Тому, вважаю що частка користувачів, які щомісяця купують підписку змінюється експоненсійно."
   ]
  },
  {
   "cell_type": "markdown",
   "metadata": {},
   "source": [
    "Зробимо прогноз на 24 тижня (6 місяців):"
   ]
  },
  {
   "cell_type": "code",
   "execution_count": 15,
   "metadata": {},
   "outputs": [
    {
     "data": {
      "image/png": "[encoded data removed]",
      "text/plain": [
       "<Figure size 640x480 with 1 Axes>"
      ]
     },
     "metadata": {},
     "output_type": "display_data"
    }
   ],
   "source": [
    "# Продовження лінії до x = 24\n",
    "x_future = np.arange(1, 25)\n",
    "y_future = a * np.exp(b * x_future)\n",
    "\n",
    "# Побудуємо графік\n",
    "plt.scatter(x_values, y_values, label='Частка користувачів що залишилась')\n",
    "plt.plot(x_values, a * np.exp(b * x_values), label='Експоненційна лінія тренда', color='red')\n",
    "plt.plot(x_future, y_future, label='Прогноз', linestyle='--', color='green')\n",
    "\n",
    "plt.xlabel('Тижні')\n",
    "plt.ylabel('Частка користувачів що залишилась')\n",
    "plt.legend()\n",
    "plt.show()"
   ]
  },
  {
   "cell_type": "markdown",
   "metadata": {},
   "source": [
    "Знайдемо прогнозовані значення для наступних тижнів:"
   ]
  },
  {
   "cell_type": "code",
   "execution_count": 16,
   "metadata": {},
   "outputs": [
    {
     "name": "stdout",
     "output_type": "stream",
     "text": [
      "Тиждень 7, Прогноз = 0.2008947633437059\n",
      "Тиждень 8, Прогноз = 0.1530164074302116\n",
      "Тиждень 9, Прогноз = 0.11654868724870665\n",
      "Тиждень 10, Прогноз = 0.08877215670869874\n",
      "Тиждень 11, Прогноз = 0.06761548321773324\n",
      "Тиждень 12, Прогноз = 0.051500985672454334\n",
      "Тиждень 13, Прогноз = 0.03922698469362895\n",
      "Тиждень 14, Прогноз = 0.029878191806670895\n",
      "Тиждень 15, Прогноз = 0.022757455170425184\n",
      "Тиждень 16, Прогноз = 0.01733377204300162\n",
      "Тиждень 17, Прогноз = 0.013202691205526867\n",
      "Тиждень 18, Прогноз = 0.010056152500221282\n",
      "Тиждень 19, Прогноз = 0.0076595143772940485\n",
      "Тиждень 20, Прогноз = 0.005834056364467749\n",
      "Тиждень 21, Прогноз = 0.004443651645159645\n",
      "Тиждень 22, Прогноз = 0.0033846159018608457\n",
      "Тиждень 23, Прогноз = 0.0025779754395481524\n",
      "Тиждень 24, Прогноз = 0.001963578012872766\n"
     ]
    }
   ],
   "source": [
    "# Експоненційна лінія тренда\n",
    "coefficients = np.polyfit(x_values, np.log(y_values), 1)\n",
    "a, b = np.exp(coefficients[1]), coefficients[0]\n",
    "\n",
    "# Прогноз для кожного x від 7 до 24\n",
    "x_future = np.arange(7, 25)\n",
    "y_future = a * np.exp(b * x_future)\n",
    "\n",
    "# Вивід прогнозованих значень\n",
    "for x, y in zip(x_future, y_future):\n",
    "    retention_rate.append(y)\n",
    "    print(f'Тиждень {x}, Прогноз = {y}')"
   ]
  },
  {
   "cell_type": "markdown",
   "metadata": {},
   "source": [
    "Звичайно, що під час прогнозування не було враховано багато факторів. До того ж даних лише за 6 тижнів замало, щоб зробити прогноз на пів року. Але враховуючи всі обставини у даній задачі, вважаю доречним прийняти такі прогнозовані дані."
   ]
  },
  {
   "cell_type": "markdown",
   "metadata": {},
   "source": [
    "Тепер маючи всі необхідні значення ми можемо зробити припущення про LTV користувача на 2, 5, 6 місяців. Вище вже була розроблена формула для підрахунку ltv. Скористаємось нею для пошуку значень"
   ]
  },
  {
   "cell_type": "code",
   "execution_count": 17,
   "metadata": {},
   "outputs": [
    {
     "name": "stdout",
     "output_type": "stream",
     "text": [
      "LTV на 2 місяці =  38.586632845971934\n",
      "LTV на 5 місяців =  44.75614198189694\n",
      "LTV на 6 місяців =  44.918382572413776\n"
     ]
    }
   ],
   "source": [
    "print('LTV на 2 місяці = ', ltv(8,retention_rate, 9.99))\n",
    "print('LTV на 5 місяців = ',ltv(20,retention_rate, 9.99))\n",
    "print('LTV на 6 місяців = ',ltv(24,retention_rate, 9.99))"
   ]
  },
  {
   "cell_type": "markdown",
   "metadata": {},
   "source": [
    "Як можна помітити, LTV на 2 місяці не сильно відрізняється від LTV на 1,5 місяця. Так стається, тому що значна частина користувачів не продовжує підписку на додаток після пів року використання. Так само LTV на 5 та 6 місяців є дуже близькими за значенням, тому що дуже малий відсоток користувачів використовує додаток такий довгий термін. Тому на більшому часовому проміжку ми будемо отримувати дедалі ближчі один до одного значення."
   ]
  },
  {
   "cell_type": "markdown",
   "metadata": {},
   "source": [
    "**Отримані LTV:**\n",
    "\n",
    "**LTV на 2 місяці =  38.586632845971934**\n",
    "\n",
    "**LTV на 5 місяців =  44.75614198189694**\n",
    "\n",
    "**LTV на 6 місяців =  44.918382572413776**"
   ]
  },
  {
   "cell_type": "markdown",
   "metadata": {},
   "source": [
    "### Завдання 3:\n",
    "\n",
    "**Розрахувати прогнозований ROAS на 6 тижнів і півроку, якщо  ціна залучення користувача, що оформлює передплату - 30 USD**"
   ]
  },
  {
   "cell_type": "markdown",
   "metadata": {},
   "source": [
    "ROAS (Return on Advertising Spend) - це показник ефективності реклами, який визначає, наскільки ефективно витрати на рекламу генерують виручку."
   ]
  },
  {
   "cell_type": "markdown",
   "metadata": {},
   "source": [
    "***ROAS = Виручка від реклами / Витрати на рекламу***\n"
   ]
  },
  {
   "cell_type": "markdown",
   "metadata": {},
   "source": [
    "У нашому випадку витрати на рекламу - це ціна залучення користувача, що становить 30$. Вона ніяк не залежить від часового проміжку\n",
    "\n",
    "Виручка від реклами це і є наш показник LTV, який залежить від часового проміжку і який ми обраховували раніше"
   ]
  },
  {
   "cell_type": "markdown",
   "metadata": {},
   "source": [
    "Отже, щоб знайати ROAS на 6 тижнів ми маємо знайти відношення LTV за 6 тижнів до ціни залучення користувача (30$). Аналогічні дії виконаємо для 6 місяців (24 тижні)"
   ]
  },
  {
   "cell_type": "code",
   "execution_count": 18,
   "metadata": {},
   "outputs": [
    {
     "name": "stdout",
     "output_type": "stream",
     "text": [
      "ROAS на 6 тижнів =  1.1651031475557472\n",
      "ROAS на 6 місяців =  1.4972794190804593\n"
     ]
    }
   ],
   "source": [
    "ltv_6 = ltv(6,retention_rate, 9.99)\n",
    "ltv_24 = ltv(24,retention_rate, 9.99)\n",
    "ROAS_6 = ltv_6 / 30\n",
    "ROAS_24 = ltv_24 / 30\n",
    "print('ROAS на 6 тижнів = ',ROAS_6)\n",
    "print('ROAS на 6 місяців = ',ROAS_24)"
   ]
  },
  {
   "cell_type": "markdown",
   "metadata": {},
   "source": [
    "Ми отримали ROAS більший за 1, що означає, що реклама приносить доходу більше, ніж на неї було витрачено. ROAS = 1.165 означає що за кожні 100$ витрачених на рекламу, компаныя отримає 116 доларів через 6 місяців, а через пів року цей показник вже буде становити 149 доларів"
   ]
  },
  {
   "cell_type": "markdown",
   "metadata": {},
   "source": [
    "**Отриманий результат:**\n",
    "\n",
    "**ROAS на 6 тижнів =  1.1651031475557472**\n",
    "\n",
    "**ROAS на 6 місяців =  1.4972794190804593**"
   ]
  }
 ],
 "metadata": {
  "kernelspec": {
   "display_name": "Python 3",
   "language": "python",
   "name": "python3"
  },
  "language_info": {
   "codemirror_mode": {
    "name": "ipython",
    "version": 3
   },
   "file_extension": ".py",
   "mimetype": "text/x-python",
   "name": "python",
   "nbconvert_exporter": "python",
   "pygments_lexer": "ipython3",
   "version": "3.11.6"
  }
 },
 "nbformat": 4,
 "nbformat_minor": 2
}
